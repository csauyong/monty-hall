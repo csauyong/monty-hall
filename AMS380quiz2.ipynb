{
  "nbformat": 4,
  "nbformat_minor": 0,
  "metadata": {
    "colab": {
      "name": "AMS380quiz2.ipynb",
      "provenance": [],
      "authorship_tag": "ABX9TyNB3xFCZ5ys/A8UHS6YQ23S"
    },
    "kernelspec": {
      "name": "python3",
      "display_name": "Python 3"
    },
    "language_info": {
      "name": "python"
    }
  },
  "cells": [
    {
      "cell_type": "markdown",
      "source": [
        "# Monty Hall Problem"
      ],
      "metadata": {
        "id": "vxh8OxjMgVIc"
      }
    },
    {
      "cell_type": "markdown",
      "source": [
        "## Scenario"
      ],
      "metadata": {
        "id": "5JLYLcGBggnz"
      }
    },
    {
      "cell_type": "markdown",
      "source": [
        "Suppose you're on a game show, and you're given the choice of three doors: Behind one door is a car; behind the others, goats. You pick a door, say No. 1, and the host, who knows what's behind the doors, opens another door, say No. 3, which has a goat. He then says to you, \"Do you want to pick door No. 2?\" Is it to your advantage to switch your choice?"
      ],
      "metadata": {
        "id": "9j6XyawogY7j"
      }
    },
    {
      "cell_type": "markdown",
      "source": [
        "## Simulation"
      ],
      "metadata": {
        "id": "EZx5T-hag0UL"
      }
    },
    {
      "cell_type": "markdown",
      "source": [
        "We first simulate the scenario using Python to approximate the winning probability in either case."
      ],
      "metadata": {
        "id": "awzyoCwWg4HQ"
      }
    },
    {
      "cell_type": "code",
      "source": [
        "import numpy as np\n",
        "\n",
        "stay_win = 0\n",
        "switch_win = 0\n",
        "num_trial = 10000\n",
        "\n",
        "stay_results = []\n",
        "switch_results = []\n",
        "for i in range(num_trial):\n",
        "  doors = ['car', 'goat', 'goat']\n",
        "  np.random.shuffle(doors)\n",
        "  my_door_index = np.random.randint(0, 3)\n",
        "  stay_result = doors.pop(my_door_index)  # remains with the choice\n",
        "  doors.remove('goat')\n",
        "  switch_result = doors[0]  # switch to the unrevealed door\n",
        "  # Put results into result lists\n",
        "  if stay_result == 'car':\n",
        "    stay_win += 1\n",
        "  if switch_result == 'car':\n",
        "    switch_win += 1\n",
        "\n",
        "print(f'Winning probability for staying with initial choice = {stay_win/num_trial}.')\n",
        "print(f'Winning probability for switching to new choice = {switch_win/num_trial}.')"
      ],
      "metadata": {
        "colab": {
          "base_uri": "https://localhost:8080/"
        },
        "id": "8SOFShFshpcA",
        "outputId": "2a40930b-6132-49fc-b5ec-fd230c949067"
      },
      "execution_count": 14,
      "outputs": [
        {
          "output_type": "stream",
          "name": "stdout",
          "text": [
            "Winning probability for staying with initial choice = 0.3307.\n",
            "Winning probability for switching to new choice = 0.6693.\n"
          ]
        }
      ]
    },
    {
      "cell_type": "markdown",
      "source": [
        "From simulation,\n",
        "\n",
        "* Winning probability for staying with initial choice $\\approx \\frac{1}{3}$.\n",
        "* Winning probability for switching to new choice $\\approx \\frac{2}{3}$.\n",
        "\n",
        "We can test this hypothesis by calcuting the analytical solution."
      ],
      "metadata": {
        "id": "M9lo7MhKoaXx"
      }
    },
    {
      "cell_type": "markdown",
      "source": [
        "## Analytical solution"
      ],
      "metadata": {
        "id": "VMvLu8QagiqD"
      }
    },
    {
      "cell_type": "markdown",
      "source": [
        "We approach the problem with Bayes Theorem. Assume we choose door 1 initially. "
      ],
      "metadata": {
        "id": "tQ65D519gtCv"
      }
    },
    {
      "cell_type": "markdown",
      "source": [
        "If we do not switch, the problem simply reduces to randomly choosing one correct door out of 3 doors, so the probability = $\\frac{1}{2}$."
      ],
      "metadata": {
        "id": "bZ6nZ9PDKh_x"
      }
    },
    {
      "cell_type": "markdown",
      "source": [
        "If we switch, then consider the probability $P(A|B)$ where\n",
        "\n",
        "*   A = door 1 has car behind\n",
        "*   B = host opens up door 2 (or 3 WLOG)\n",
        "\n",
        "$P(B) = \\frac{1}{2}$\n",
        "\n",
        "$P(A \\cap B) = \\frac{1}{3} \\times \\frac{1}{2} = \\frac{1}{6}$\n",
        "\n",
        "$P(A|B) = \\frac{1}{6} \\div \\frac{1}{2} = \\frac{1}{3}$\n",
        "\n",
        "Consider event C = door 3 has car behind. Given B, $C = \\bar A$. Therefore, \n",
        "\n",
        "$P(C|B) = 1 - P(A|B) = \\frac{2}{3} > P(A|B)$\n",
        "\n",
        "Therefore, we should always switch.\n"
      ],
      "metadata": {
        "id": "F98cp2r2WhXZ"
      }
    },
    {
      "cell_type": "markdown",
      "source": [
        "# Game Theory"
      ],
      "metadata": {
        "id": "4st5Azm_pPHE"
      }
    },
    {
      "cell_type": "markdown",
      "source": [
        "We can transform the Monty Hall problem into an extensive card game. The events that happen in sequence are:\n",
        "\n",
        "1.   The player select 1 of J, Q, K by chance.\n",
        "2.   The host discard J or Q.\n",
        "3.   If the player chooses K in the end, he wins and receive payoff $1.\n",
        "\n",
        "Without loss of generality, the player now has 2 information sets, namely J and Q, for each of which he has to formulate a strategy. The total available strategies for him are: \n",
        "\n",
        "- SS (always switch)\n",
        "- SK (switch when seeing J, keep when seeing Q)\n",
        "- KS (switch when seeing Q, keep when seeing J)\n",
        "- KK (always keep)\n",
        "\n",
        "Calculating the expected payoff, we have the following zero-sum game matrix, where the player is the row player.\n",
        "\n",
        "|        | Seeing J      | Seeing Q      |\n",
        "| ----   | -----------   | ----------    |\n",
        "| SS     | $\\frac{2}{3}$ | $\\frac{2}{3}$ |\n",
        "| SK     | $\\frac{1}{3}$ | $\\frac{2}{3}$ |\n",
        "| KS     | $\\frac{2}{3}$ | $\\frac{1}{3}$ |\n",
        "| KK     | $\\frac{1}{3}$ | $\\frac{1}{3}$ |\n",
        "\n",
        "The maximin strategy for player (row) is SS, whereas any strategy is a minimax strategy of host (column). Therefore, the player should always switch."
      ],
      "metadata": {
        "id": "zoQlSJdEpRJS"
      }
    },
    {
      "cell_type": "code",
      "source": [
        ""
      ],
      "metadata": {
        "id": "p7StS7bmpQUS"
      },
      "execution_count": null,
      "outputs": []
    }
  ]
}